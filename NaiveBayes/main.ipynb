{
 "cells": [
  {
   "cell_type": "code",
   "execution_count": 2,
   "metadata": {},
   "outputs": [
    {
     "name": "stdout",
     "output_type": "stream",
     "text": [
      "Total Instances of Dataset:  18\n",
      "Accuracy Metrics:\n",
      "Accuracy:  0.6\n",
      "Recall:  0.3333333333333333\n",
      "Precision:  1.0\n",
      "Confusion Matrix: \n",
      " [[2 0]\n",
      " [2 1]]\n"
     ]
    }
   ],
   "source": [
    "# Import necessary libraries\n",
    "import pandas as pd\n",
    "from sklearn.model_selection import train_test_split\n",
    "from sklearn.feature_extraction.text import CountVectorizer\n",
    "from sklearn.naive_bayes import MultinomialNB\n",
    "from sklearn.metrics import accuracy_score, confusion_matrix, precision_score, recall_score\n",
    "\n",
    "# Create a sample dataset\n",
    "data = {\n",
    "    'message': [\n",
    "        'I love this sandwich', 'This is an amazing place', 'I feel very good about these beers',\n",
    "        'This is my best work', 'What an awesome view', 'I do not like this restaurant',\n",
    "        'I am tired of this stuff', 'I can\\'t deal with this', 'He is my sworn enemy',\n",
    "        'My boss is horrible', 'This is an awesome place', 'I do not like the taste of this juice',\n",
    "        'I love to dance', 'I am sick and tired of this place', 'What a great holiday',\n",
    "        'That is a bad locality to stay', 'We will have good fun tomorrow', 'I went to my enemy\\'s house today'\n",
    "    ],\n",
    "    'label': [\n",
    "        'pos', 'pos', 'pos', 'pos', 'pos', 'neg', 'neg', 'neg', 'neg', 'neg', 'pos', 'neg',\n",
    "        'pos', 'neg', 'pos', 'neg', 'pos', 'neg'\n",
    "    ]\n",
    "}\n",
    "\n",
    "# Convert the dictionary into a DataFrame\n",
    "msg = pd.DataFrame(data)\n",
    "\n",
    "# Display the total instances in the dataset\n",
    "print(\"Total Instances of Dataset: \", msg.shape[0])\n",
    "\n",
    "# Map the labels to binary values\n",
    "msg['labelnum'] = msg.label.map({'pos': 1, 'neg': 0})\n",
    "\n",
    "# Define the features and the target variable\n",
    "X = msg.message\n",
    "y = msg.labelnum\n",
    "\n",
    "# Split the data into training and testing sets\n",
    "X_train, X_test, y_train, y_test = train_test_split(X, y, test_size=0.25, random_state=42)\n",
    "\n",
    "# Vectorize the text data\n",
    "count_v = CountVectorizer()\n",
    "X_train_dm = count_v.fit_transform(X_train)\n",
    "X_test_dm = count_v.transform(X_test)\n",
    "\n",
    "# Train the Naïve Bayes classifier\n",
    "clf = MultinomialNB()\n",
    "clf.fit(X_train_dm, y_train)\n",
    "\n",
    "# Predict the labels for the test set\n",
    "y_pred = clf.predict(X_test_dm)\n",
    "\n",
    "# Evaluate the classifier\n",
    "print('Accuracy Metrics:')\n",
    "print('Accuracy: ', accuracy_score(y_test, y_pred))\n",
    "print('Recall: ', recall_score(y_test, y_pred))\n",
    "print('Precision: ', precision_score(y_test, y_pred))\n",
    "print('Confusion Matrix: \\n', confusion_matrix(y_test, y_pred))\n"
   ]
  },
  {
   "cell_type": "code",
   "execution_count": 3,
   "metadata": {},
   "outputs": [
    {
     "name": "stdout",
     "output_type": "stream",
     "text": [
      "Predicted Sentiment:  1\n"
     ]
    }
   ],
   "source": [
    "# clf is our classifier\n",
    "\n",
    "# Predict the sentiment of a new message\n",
    "\n",
    "# Define a new message\n",
    "msg = ['I hate this place'] # Expected: pos\n",
    "# Vectorize the new message\n",
    "msg_dm = count_v.transform(msg)\n",
    "# Predict the sentiment of the new message\n",
    "\n",
    "print('Predicted Sentiment: ', clf.predict(msg_dm)[0])\n"
   ]
  }
 ],
 "metadata": {
  "kernelspec": {
   "display_name": "Python 3",
   "language": "python",
   "name": "python3"
  },
  "language_info": {
   "codemirror_mode": {
    "name": "ipython",
    "version": 3
   },
   "file_extension": ".py",
   "mimetype": "text/x-python",
   "name": "python",
   "nbconvert_exporter": "python",
   "pygments_lexer": "ipython3",
   "version": "3.9.6"
  }
 },
 "nbformat": 4,
 "nbformat_minor": 2
}
