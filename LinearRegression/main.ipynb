{
 "cells": [
  {
   "cell_type": "code",
   "execution_count": null,
   "metadata": {},
   "outputs": [],
   "source": [
    "# Import necessary libraries\n",
    "import numpy as np\n",
    "import pandas as pd\n",
    "import seaborn as sns\n",
    "import matplotlib.pyplot as plt\n",
    "from sklearn.model_selection import train_test_split\n",
    "from sklearn.linear_model import LinearRegression\n",
    "from sklearn.metrics import mean_absolute_error, mean_squared_error\n",
    "\n",
    "# Create a sample dataset\n",
    "data = {\n",
    "    'Sal': [30.1, 31.2, 32.0, 33.1, 34.0, 35.2, 36.5, 37.0, 38.1, 39.5],\n",
    "    'Temp': [10.0, 10.5, 11.0, 11.5, 12.0, 12.5, 13.0, 13.5, 14.0, 14.5]\n",
    "}\n",
    "\n",
    "# Convert the dictionary into a DataFrame\n",
    "df_binary = pd.DataFrame(data)\n",
    "\n",
    "# Display the first 5 rows of the dataframe\n",
    "print(df_binary.head())\n",
    "\n",
    "# Plotting the scatter plot to check the relationship between Salinity and Temperature\n",
    "sns.lmplot(x=\"Sal\", y=\"Temp\", data=df_binary, order=2, ci=None)\n",
    "plt.show()\n",
    "\n",
    "# Convert the columns to numpy arrays and reshape them\n",
    "X = np.array(df_binary['Sal']).reshape(-1, 1)\n",
    "y = np.array(df_binary['Temp']).reshape(-1, 1)\n",
    "\n",
    "# Split the data into training and testing sets\n",
    "X_train, X_test, y_train, y_test = train_test_split(X, y, test_size=0.25)\n",
    "\n",
    "# Initialize and train the linear regression model\n",
    "regr = LinearRegression()\n",
    "regr.fit(X_train, y_train)\n",
    "\n",
    "# Evaluate the model\n",
    "y_pred = regr.predict(X_test)\n",
    "score = regr.score(X_test, y_test)\n",
    "print(\"R^2 Score:\", score)\n",
    "\n",
    "# Calculate evaluation metrics\n",
    "mae = mean_absolute_error(y_true=y_test, y_pred=y_pred)\n",
    "mse = mean_squared_error(y_true=y_test, y_pred=y_pred)\n",
    "rmse = mean_squared_error(y_true=y_test, y_pred=y_pred, squared=False)\n",
    "\n",
    "print(\"MAE:\", mae)\n",
    "print(\"MSE:\", mse)\n",
    "print(\"RMSE:\", rmse)\n"
   ]
  }
 ],
 "metadata": {
  "language_info": {
   "name": "python"
  }
 },
 "nbformat": 4,
 "nbformat_minor": 2
}
