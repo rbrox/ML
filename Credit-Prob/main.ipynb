{
 "cells": [
  {
   "cell_type": "code",
   "execution_count": null,
   "metadata": {},
   "outputs": [],
   "source": [
    "# Sample dataset\n",
    "data = [\n",
    "    (\"medium\", \"skiing\", \"design\", \"single\", \"twenties\", \"no\", \"highRisk\"),\n",
    "    (\"high\", \"golf\", \"trading\", \"married\", \"forties\", \"yes\", \"lowRisk\"),\n",
    "    (\"low\", \"speedway\", \"transport\", \"married\", \"thirties\", \"yes\", \"medRisk\"),\n",
    "    (\"medium\", \"football\", \"banking\", \"single\", \"thirties\", \"yes\", \"lowRisk\"),\n",
    "    (\"high\", \"flying\", \"media\", \"married\", \"fifties\", \"yes\", \"highRisk\"),\n",
    "    (\"low\", \"football\", \"security\", \"single\", \"twenties\", \"no\", \"medRisk\"),\n",
    "    (\"medium\", \"golf\", \"media\", \"single\", \"thirties\", \"yes\", \"medRisk\"),\n",
    "    (\"medium\", \"golf\", \"transport\", \"married\", \"forties\", \"yes\", \"lowRisk\"),\n",
    "    (\"high\", \"skiing\", \"banking\", \"single\", \"thirties\", \"yes\", \"highRisk\"),\n",
    "    (\"low\", \"golf\", \"unemployed\", \"married\", \"forties\", \"yes\", \"highRisk\")\n",
    "]\n",
    "\n",
    "# Initialize counters\n",
    "total_records = len(data)\n",
    "number_golf_recreation = 0\n",
    "number_medRisk_single = 0\n",
    "number_medRisk = 0\n",
    "\n",
    "# Process the data\n",
    "for record in data:\n",
    "    income, recreation, job, status, age_group, homeowner, credit_worthiness = record\n",
    "    \n",
    "    # Count number of golf records\n",
    "    if recreation == \"golf\":\n",
    "        number_golf_recreation += 1\n",
    "    \n",
    "    # Count records with medRisk and medRisk + single\n",
    "    if credit_worthiness == \"medRisk\":\n",
    "        number_medRisk += 1\n",
    "        if status == \"single\":\n",
    "            number_medRisk_single += 1\n",
    "\n",
    "# Calculate probabilities\n",
    "prob_golf = number_golf_recreation / total_records\n",
    "prob_medRisk_single = number_medRisk_single / total_records\n",
    "prob_medRisk = number_medRisk / total_records\n",
    "conditional_probability = prob_medRisk_single / prob_medRisk\n",
    "\n",
    "# Print results\n",
    "print(\"Unconditional probability of golf: =\", prob_golf)\n",
    "print(\"Conditional probability of single given medRisk: =\", conditional_probability)\n"
   ]
  }
 ],
 "metadata": {
  "language_info": {
   "name": "python"
  }
 },
 "nbformat": 4,
 "nbformat_minor": 2
}
